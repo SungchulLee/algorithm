{
 "cells": [
  {
   "cell_type": "markdown",
   "metadata": {},
   "source": [
    "# Recursion_Memoization_and_Dynamic_Programing"
   ]
  },
  {
   "cell_type": "markdown",
   "metadata": {},
   "source": [
    "CS_Dojo [youtube](https://www.youtube.com/watch?v=vYquumk4nWw) [code](https://www.csdojo.io/dpcode)\n",
    "[youtube](https://www.youtube.com/watch?v=nqlNzOcnCfs) [code](https://www.csdojo.io/dpcode)\n",
    "[youtube](https://www.youtube.com/watch?v=D6xkbGLQesk&list=PLBZBJbE_rGRV8D7XZ08LK6z-4zPoWzu5H&index=7)\n",
    "Telusko\n",
    "[youtube](https://www.youtube.com/watch?v=XkL3SUioNvo)\n",
    "Abdul_Bari [youtube](https://www.youtube.com/watch?v=sSno9rV8Rhg)"
   ]
  },
  {
   "cell_type": "markdown",
   "metadata": {},
   "source": [
    "<a href=\"#Naive-recursive-solution\">Naive recursive solution</a>\n",
    "\n",
    "<a href=\"#Memoized-solution\">Memoized solution</a>\n",
    "\n",
    "<a href=\"#Bottom-up-solution\">Bottom-up solution</a>\n",
    "\n",
    "<a href=\"#Another-bottom-up-solution-with-efficient-memory usage\">Another bottom-up solution with efficient memory usage</a>"
   ]
  },
  {
   "cell_type": "markdown",
   "metadata": {},
   "source": [
    "이 절에서는 피보나치 수열 $a_n$을 계산하는 네가지 방법을 소개하고, 각각의 장단점을 알아본다.\n",
    "\n",
    "$$\n",
    "a_n=a_{n-1}+a_{n-2}\n",
    "$$\n",
    "where\n",
    "$$\n",
    "a_1=1,\\quad a_2=1\n",
    "$$"
   ]
  },
  {
   "cell_type": "markdown",
   "metadata": {},
   "source": [
    "# Naive recursive solution"
   ]
  },
  {
   "cell_type": "markdown",
   "metadata": {},
   "source": [
    "<div align=\"center\"><img src=\"https://cdn-images-1.medium.com/max/1600/1*HnZo9bn8dytFmruZgq7wXQ.png\" width=\"50%\"></div>"
   ]
  },
  {
   "cell_type": "code",
   "execution_count": 2,
   "metadata": {},
   "outputs": [
    {
     "name": "stdout",
     "output_type": "stream",
     "text": [
      "55\n"
     ]
    }
   ],
   "source": [
    "def fib_naive(n):\n",
    "    if n==1 or n==2:\n",
    "        result = 1\n",
    "    else:\n",
    "        result = fib_naive(n-1) + fib_naive(n-2)\n",
    "    return result\n",
    "\n",
    "\n",
    "if __name__ == '__main__':\n",
    "    print(fib_naive(6))"
   ]
  },
  {
   "cell_type": "code",
   "execution_count": 3,
   "metadata": {},
   "outputs": [
    {
     "data": {
      "image/png": "[encoded data removed]",
      "text/plain": [
       "<Figure size 432x288 with 1 Axes>"
      ]
     },
     "metadata": {},
     "output_type": "display_data"
    }
   ],
   "source": [
    "import time\n",
    "import matplotlib.pyplot as plt\n",
    "\n",
    "time_record = []\n",
    "for i in range(20):\n",
    "    tic = time.time()\n",
    "    fib_naive(i+1)\n",
    "    toc = time.time()\n",
    "    time_record.append(toc-tic)\n",
    "    \n",
    "plt.plot(time_record)\n",
    "plt.show()"
   ]
  },
  {
   "cell_type": "markdown",
   "metadata": {},
   "source": [
    "연습문제. 위 그림에서 보면 계산시간이 지수함수로 증가하는데 그 이유를 설명하라. "
   ]
  },
  {
   "cell_type": "markdown",
   "metadata": {},
   "source": [
    "[<a href=\"#Dynamic-Programming\">Back to top</a>]"
   ]
  },
  {
   "cell_type": "markdown",
   "metadata": {},
   "source": [
    "# Memoized solution"
   ]
  },
  {
   "cell_type": "markdown",
   "metadata": {},
   "source": [
    "Wu [medium](https://medium.com/@chialunwu/wtf-is-memoization-a2979594fb2a)"
   ]
  },
  {
   "cell_type": "markdown",
   "metadata": {},
   "source": [
    "<div align=\"center\"><img src=\"https://cdn-images-1.medium.com/max/1600/1*Ep3DPNDYjlSeJiAP76PsiQ.png\" width=\"50%\"></div>"
   ]
  },
  {
   "cell_type": "code",
   "execution_count": 1,
   "metadata": {},
   "outputs": [
    {
     "name": "stdout",
     "output_type": "stream",
     "text": [
      "[None, None, None, None, None, None, None, None, None, None, None]\n",
      "[None, None, 1, None, None, None, None, None, None, None, None]\n",
      "[None, 1, 1, None, None, None, None, None, None, None, None]\n",
      "[None, 1, 1, 2, None, None, None, None, None, None, None]\n",
      "[None, 1, 1, 2, 3, None, None, None, None, None, None]\n",
      "[None, 1, 1, 2, 3, 5, None, None, None, None, None]\n",
      "[None, 1, 1, 2, 3, 5, 8, None, None, None, None]\n",
      "[None, 1, 1, 2, 3, 5, 8, 13, None, None, None]\n",
      "[None, 1, 1, 2, 3, 5, 8, 13, 21, None, None]\n",
      "[None, 1, 1, 2, 3, 5, 8, 13, 21, 34, None]\n",
      "[None, 1, 1, 2, 3, 5, 8, 13, 21, 34, 55]\n",
      "55\n"
     ]
    }
   ],
   "source": [
    "def fib_memoized(n, memo):\n",
    "    \n",
    "    if memo[n] != None:\n",
    "        return memo[n]\n",
    "    \n",
    "    if n==1 or n==2:\n",
    "        result = 1\n",
    "    else:\n",
    "        #result = fib_memoized(n-1, memo) + fib_memoized(n-2, memo)\n",
    "        result = fib_memoized(n-2, memo) + fib_memoized(n-1, memo)\n",
    "    \n",
    "    memo[n] = result \n",
    "    print(memo)\n",
    "    \n",
    "    return result\n",
    "\n",
    "\n",
    "def fib_memo(n):\n",
    "    memo = [None] * (n + 1)\n",
    "    print(memo)\n",
    "    \n",
    "    return fib_memoized(n, memo)\n",
    "\n",
    "\n",
    "if __name__ == '__main__':\n",
    "    print(fib_memo(10))"
   ]
  },
  {
   "cell_type": "code",
   "execution_count": 7,
   "metadata": {},
   "outputs": [
    {
     "data": {
      "image/png": "[encoded data removed]",
      "text/plain": [
       "<Figure size 432x288 with 1 Axes>"
      ]
     },
     "metadata": {},
     "output_type": "display_data"
    }
   ],
   "source": [
    "import time\n",
    "import matplotlib.pyplot as plt\n",
    "\n",
    "time_record = []\n",
    "for i in range(1,200):\n",
    "    tic = time.time()\n",
    "    fib_memo(i)\n",
    "    toc = time.time()\n",
    "    time_record.append(toc-tic)\n",
    "    \n",
    "plt.plot(time_record)\n",
    "plt.show()"
   ]
  },
  {
   "cell_type": "markdown",
   "metadata": {},
   "source": [
    "연습문제. 위 그림에서 계산시간이 선형함수로 증가하는데 그 이유를 설명하라. "
   ]
  },
  {
   "cell_type": "markdown",
   "metadata": {},
   "source": [
    "[<a href=\"#Dynamic-Programming\">Back to top</a>]"
   ]
  },
  {
   "cell_type": "markdown",
   "metadata": {},
   "source": [
    "# Bottom-up solution"
   ]
  },
  {
   "cell_type": "code",
   "execution_count": 9,
   "metadata": {},
   "outputs": [
    {
     "name": "stdout",
     "output_type": "stream",
     "text": [
      "33644764876431783266621612005107543310302148460680063906564769974680081442166662368155595513633734025582065332680836159373734790483865268263040892463056431887354544369559827491606602099884183933864652731300088830269235673613135117579297437854413752130520504347701602264758318906527890855154366159582987279682987510631200575428783453215515103870818298969791613127856265033195487140214287532698187962046936097879900350962302291026368131493195275630227837628441540360584402572114334961180023091208287046088923962328835461505776583271252546093591128203925285393434620904245248929403901706233888991085841065183173360437470737908552631764325733993712871937587746897479926305837065742830161637408969178426378624212835258112820516370298089332099905707920064367426202389783111470054074998459250360633560933883831923386783056136435351892133279732908133732642652633989763922723407882928177953580570993691049175470808931841056146322338217465637321248226383092103297701648054726243842374862411453093812206564914032751086643394517512161526545361333111314042436854805106765843493523836959653428071768775328348234345557366719731392746273629108210679280784718035329131176778924659089938635459327894523777674406192240337638674004021330343297496902028328145933418826817683893072003634795623117103101291953169794607632737589253530772552375943788434504067715555779056450443016640119462580972216729758615026968443146952034614932291105970676243268515992834709891284706740862008587135016260312071903172086094081298321581077282076353186624611278245537208532365305775956430072517744315051539600905168603220349163222640885248852433158051534849622434848299380905070483482449327453732624567755879089187190803662058009594743150052402532709746995318770724376825907419939632265984147498193609285223945039707165443156421328157688908058783183404917434556270520223564846495196112460268313970975069382648706613264507665074611512677522748621598642530711298441182622661057163515069260029861704945425047491378115154139941550671256271197133252763631939606902895650288268608362241082050562430701794976171121233066073310059947366875\n"
     ]
    }
   ],
   "source": [
    "def fib_bottom_up(n):\n",
    "    if n == 1 or n == 2:\n",
    "        return 1\n",
    "    bottom_up = [None] * (n+1)\n",
    "    bottom_up[1] = 1\n",
    "    bottom_up[2] = 1\n",
    "    for i in range(3, n+1):\n",
    "        bottom_up[i] = bottom_up[i-1] + bottom_up[i-2]\n",
    "    return bottom_up[n]\n",
    "\n",
    "if __name__ == '__main__':\n",
    "    print(fib_bottom_up(10000))"
   ]
  },
  {
   "cell_type": "code",
   "execution_count": 10,
   "metadata": {},
   "outputs": [
    {
     "data": {
      "image/png": "[encoded data removed]",
      "text/plain": [
       "<Figure size 432x288 with 1 Axes>"
      ]
     },
     "metadata": {},
     "output_type": "display_data"
    }
   ],
   "source": [
    "import time\n",
    "import matplotlib.pyplot as plt\n",
    "\n",
    "time_record = []\n",
    "for i in range(1000):\n",
    "    tic = time.time()\n",
    "    fib_bottom_up(i+1)\n",
    "    toc = time.time()\n",
    "    time_record.append(toc-tic)\n",
    "    \n",
    "plt.plot(time_record)\n",
    "plt.show()"
   ]
  },
  {
   "cell_type": "markdown",
   "metadata": {},
   "source": [
    "연습문제. Memoized solution 계산시간과 Bottom-up solution 계산시간을 비교하면, Bottom-up solution 계산시간  이 절반정도로 빠른데 그 이유를 설명하라. "
   ]
  },
  {
   "cell_type": "markdown",
   "metadata": {},
   "source": [
    "[<a href=\"#Dynamic-Programming\">Back to top</a>]"
   ]
  },
  {
   "cell_type": "markdown",
   "metadata": {},
   "source": [
    "# Another bottom-up solution with efficient memory usage"
   ]
  },
  {
   "cell_type": "code",
   "execution_count": 11,
   "metadata": {},
   "outputs": [
    {
     "name": "stdout",
     "output_type": "stream",
     "text": [
      "33644764876431783266621612005107543310302148460680063906564769974680081442166662368155595513633734025582065332680836159373734790483865268263040892463056431887354544369559827491606602099884183933864652731300088830269235673613135117579297437854413752130520504347701602264758318906527890855154366159582987279682987510631200575428783453215515103870818298969791613127856265033195487140214287532698187962046936097879900350962302291026368131493195275630227837628441540360584402572114334961180023091208287046088923962328835461505776583271252546093591128203925285393434620904245248929403901706233888991085841065183173360437470737908552631764325733993712871937587746897479926305837065742830161637408969178426378624212835258112820516370298089332099905707920064367426202389783111470054074998459250360633560933883831923386783056136435351892133279732908133732642652633989763922723407882928177953580570993691049175470808931841056146322338217465637321248226383092103297701648054726243842374862411453093812206564914032751086643394517512161526545361333111314042436854805106765843493523836959653428071768775328348234345557366719731392746273629108210679280784718035329131176778924659089938635459327894523777674406192240337638674004021330343297496902028328145933418826817683893072003634795623117103101291953169794607632737589253530772552375943788434504067715555779056450443016640119462580972216729758615026968443146952034614932291105970676243268515992834709891284706740862008587135016260312071903172086094081298321581077282076353186624611278245537208532365305775956430072517744315051539600905168603220349163222640885248852433158051534849622434848299380905070483482449327453732624567755879089187190803662058009594743150052402532709746995318770724376825907419939632265984147498193609285223945039707165443156421328157688908058783183404917434556270520223564846495196112460268313970975069382648706613264507665074611512677522748621598642530711298441182622661057163515069260029861704945425047491378115154139941550671256271197133252763631939606902895650288268608362241082050562430701794976171121233066073310059947366875\n"
     ]
    }
   ],
   "source": [
    "def fib_bottom_up_2(n):\n",
    "    if n == 1 or n == 2:\n",
    "        return 1\n",
    "    a = 1\n",
    "    b = 1\n",
    "    for i in range(3, n+1):\n",
    "        c = a + b\n",
    "        a = b\n",
    "        b = c\n",
    "    return c\n",
    "\n",
    "if __name__ == '__main__':\n",
    "    print(fib_bottom_up_2(10000))"
   ]
  },
  {
   "cell_type": "code",
   "execution_count": 12,
   "metadata": {},
   "outputs": [
    {
     "data": {
      "image/png": "[encoded data removed]",
      "text/plain": [
       "<Figure size 432x288 with 1 Axes>"
      ]
     },
     "metadata": {},
     "output_type": "display_data"
    }
   ],
   "source": [
    "import time\n",
    "import matplotlib.pyplot as plt\n",
    "\n",
    "time_record = []\n",
    "for i in range(1000):\n",
    "    tic = time.time()\n",
    "    fib_bottom_up_2(i+1)\n",
    "    toc = time.time()\n",
    "    time_record.append(toc-tic)\n",
    "    \n",
    "plt.plot(time_record)\n",
    "plt.show()"
   ]
  },
  {
   "cell_type": "markdown",
   "metadata": {},
   "source": [
    "연습문제. 위 그림에서 peaks가 발생하는 이유를 설명하라. "
   ]
  },
  {
   "cell_type": "markdown",
   "metadata": {},
   "source": [
    "연습문제. Bottom-up solution에 비하여 Another bottom-up solution with efficient memory usage가 메모리를 극미하게 사용하는데 그 이유를 설명하라. "
   ]
  },
  {
   "cell_type": "markdown",
   "metadata": {},
   "source": [
    "연습문제. Bottom-up solution에 비하여 Another bottom-up solution with efficient memory usage가 메모리를 극미하게 사용하는데 이를 확인하는 코드를 작성하라. "
   ]
  },
  {
   "cell_type": "markdown",
   "metadata": {},
   "source": [
    "[<a href=\"#Dynamic-Programming\">Back to top</a>]"
   ]
  }
 ],
 "metadata": {
  "kernelspec": {
   "display_name": "Python 3",
   "language": "python",
   "name": "python3"
  },
  "language_info": {
   "codemirror_mode": {
    "name": "ipython",
    "version": 3
   },
   "file_extension": ".py",
   "mimetype": "text/x-python",
   "name": "python",
   "nbconvert_exporter": "python",
   "pygments_lexer": "ipython3",
   "version": "3.5.0"
  }
 },
 "nbformat": 4,
 "nbformat_minor": 2
}
